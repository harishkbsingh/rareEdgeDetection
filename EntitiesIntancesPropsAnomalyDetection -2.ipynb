{
 "cells": [
  {
   "cell_type": "code",
   "execution_count": 246,
   "metadata": {},
   "outputs": [],
   "source": [
    "# file = 'wgetthinkbroadband_hourGrouping.csv'\n",
    "file = 'datacollectorr_amazon_hourGrouping.csv'\n",
    "# file = 'curltxt_hourGrouping.csv'\n",
    "# file = 'datacollectorr_hourGrouping.csv'\n",
    "# file = 'Snowflake_dayGrouping.csv'\n",
    "\n",
    "\n",
    "#Custom function to generate missing entries in the time serie \n",
    "import datetime\n",
    "import collections\n",
    "import numpy as np\n",
    "\n",
    "# base = datetime.datetime.today()\n",
    "base = datetime.datetime(2019, 1, 1)\n",
    "date_list = [base + datetime.timedelta(hours=x) for x in range((24*30*5) + 13)]\n",
    "di = collections.defaultdict(int)\n",
    "for t in date_list:\n",
    "#     print(t.strftime(\"%Y-%m-%d %H:%M:%S.000\"))\n",
    "    di[t.strftime(\"%Y-%m-%d %H:%M:%S.000\")] = 0\n",
    "    \n",
    "\n",
    "with open('datasets_byhour_raw/'+file) as f:\n",
    "    ts_array = f.readline()\n",
    "    ts_array = f.readlines()\n",
    "def transform(ts_str):\n",
    "    entity_dict = {}\n",
    "    temp_array = ts_str.split(',')\n",
    "    date =  temp_array[0]\n",
    "    di[date] = float(temp_array[3])  \n",
    "#     return di\n",
    "\n",
    "for x in ts_array:\n",
    "    transform(x)\n",
    "    \n",
    "# we want to save it to open it with JMP and visualize it easier.\n",
    "time_series = list(di.values())\n",
    "# np.savetxt('datasets_byhour/'+file, time_series, delimiter=',')"
   ]
  },
  {
   "cell_type": "code",
   "execution_count": 247,
   "metadata": {},
   "outputs": [
    {
     "name": "stderr",
     "output_type": "stream",
     "text": [
      "/Users/anglecambero/anaconda3/lib/python3.7/site-packages/seaborn/timeseries.py:183: UserWarning: The `tsplot` function is deprecated and will be removed in a future release. Please update your code to use the new `lineplot` function.\n",
      "  warnings.warn(msg, UserWarning)\n"
     ]
    },
    {
     "data": {
      "text/plain": [
       "Text(0.5, 1.0, 'Plot of the number of connections between processes and dns by day')"
      ]
     },
     "execution_count": 247,
     "metadata": {},
     "output_type": "execute_result"
    },
    {
     "data": {
      "image/png": "[encoded data removed]",
      "text/plain": [
       "<Figure size 432x288 with 1 Axes>"
      ]
     },
     "metadata": {
      "needs_background": "light"
     },
     "output_type": "display_data"
    }
   ],
   "source": [
    "import seaborn as sns\n",
    "import matplotlib.pyplot as plot\n",
    "sns.tsplot(time_series)\n",
    "plot.title(\"Plot of the number of connections between processes and dns by day\") "
   ]
  },
  {
   "cell_type": "code",
   "execution_count": 248,
   "metadata": {},
   "outputs": [
    {
     "name": "stdout",
     "output_type": "stream",
     "text": [
      "Rare Edge at  1374  hour:  104.0  connections\n"
     ]
    }
   ],
   "source": [
    "class Algorithm():\n",
    "    \n",
    "    # Constants \n",
    "    trainingTime = 30 * 24\n",
    "    timeLast60days = 60 * 24\n",
    "    timeLast30days = 30 * 24\n",
    "    timeLast15days = 15 * 24\n",
    "    timeLast5days  = 5 * 24\n",
    "    timeLast1days  = 24\n",
    "    timeLast5hours = 5\n",
    "    \n",
    "    # Results       \n",
    "    trackAllSpikesValue = []\n",
    "    trackAllSpikesPosition = []\n",
    "    rareEdgesTrack = {\n",
    "                        'positions': [], \n",
    "                        'values': [], \n",
    "                        'stdPrev15days': [], \n",
    "                        'distPrevRareEdge': [], \n",
    "                        'continuousZeroPrevRareEdge': [],\n",
    "                        'reportedRareEdge': []\n",
    "                    }\n",
    "    \n",
    "        \n",
    "    def rareEdge_detection(self, ts):\n",
    "\n",
    "        # Initializations\n",
    "        flag = False\n",
    "        spike = False\n",
    "        timeSerieHours = len(ts)\n",
    "        assert timeSerieHours > 30, \"not enough data\"\n",
    "        \n",
    "\n",
    "        # Training first 30 days\n",
    "        self.rareEdgesTrack['positions'].append(self.trainingTime - 1)\n",
    "        self.rareEdgesTrack['values'].append(np.amax(ts[:self.trainingTime]))\n",
    "        self.rareEdgesTrack['reportedRareEdge'].append(False)\n",
    "        trackAllSpikesValue.append(np.amax(ts[:self.trainingTime]))\n",
    "        trackAllSpikesPosition.append(self.trainingTime - 1)\n",
    "        \n",
    "\n",
    "        # Training & Detection\n",
    "        for i in range(self.trainingTime, timeSerieHours):\n",
    "\n",
    "            # No need to process zeros\n",
    "            if ts[i] == 0:\n",
    "                continue\n",
    "\n",
    "            # Distance from last Rare Edge \n",
    "            timeSinceLastRE = i - self.rareEdgesTrack['positions'][-1]\n",
    "             \n",
    "            # Reset Flags\n",
    "            flag = False\n",
    "            toReport = False\n",
    "        \n",
    "            # Heuristics to detect Rare edges\n",
    "            if (timeSinceLastRE > self.timeLast60days and ts[i] > np.mean(self.rareEdgesTrack['values']) * 0.50) or \\\n",
    "               (timeSinceLastRE > self.timeLast30days and timeSinceLastRE < self.timeLast60days and self.rareEdgesTrack['values'][-1] * 1.50 < ts[i]) or \\\n",
    "               (timeSinceLastRE > self.timeLast15days and timeSinceLastRE < self.timeLast30days and self.rareEdgesTrack['values'][-1] * 2 < ts[i]) or \\\n",
    "               (timeSinceLastRE > self.timeLast5days and timeSinceLastRE < self.timeLast15days and self.rareEdgesTrack['values'][-1] * 3 < ts[i]) or \\\n",
    "               (timeSinceLastRE > self.timeLast1days and timeSinceLastRE < self.timeLast5days and self.rareEdgesTrack['values'][-1] * 5 < ts[i]):\n",
    "                self.rareEdgesTrack['values'].append(ts[i])\n",
    "                self.rareEdgesTrack['positions'].append(i)\n",
    "                toReport = True\n",
    "         \n",
    "        \n",
    "            # 24 hours after an rare edge, rare edge is updated but no reported again.\n",
    "            if (timeSinceLastRE < self.timeLast1days and self.rareEdgesTrack['values'][-1] < ts[i]):\n",
    "                self.rareEdgesTrack['values'].append(ts[i])\n",
    "                self.rareEdgesTrack['positions'].append(i)\n",
    "                toReport = False\n",
    "                \n",
    "                \n",
    "            # Rare edges should be greater than 3 times the spikes from the last rare edge\n",
    "            if ts[i] < (np.mean([value for posValue, value in enumerate(trackAllSpikesValue) if trackAllSpikesPosition[posValue] < timeSinceLastRE])) * 3:\n",
    "                toReport = False\n",
    "          \n",
    "            # Check agsinst spikes\n",
    "            theValues = [trackAllSpikesValue[position] for position in trackAllSpikesPosition if position < timeSinceLastRE]\n",
    "            if len(theValues) > 0 and ts[i] < np.max(theValues) * 1.50:\n",
    "                toReport = False\n",
    "\n",
    "    \n",
    "            if(toReport):\n",
    "                self.rareEdgesTrack['reportedRareEdge'].append(toReport)\n",
    "                print(\"Rare Edge at \",i,\" hour: \", ts[i], \" connections\")\n",
    "            \n",
    "            # A spike is at least 50% of the last of rare edge\n",
    "            if ts[i] > self.rareEdgesTrack['values'][-1] * 0.75:\n",
    "                trackAllSpikesValue.append(ts[i])\n",
    "                trackAllSpikesPosition.append(i)\n",
    "                \n",
    "        return (trackAllSpikesPosition, trackAllSpikesValue)    \n",
    "\n",
    "trackAllSpikesPosition, trackAllSpikesValue = Algorithm().rareEdge_detection(time_series)"
   ]
  },
  {
   "cell_type": "code",
   "execution_count": null,
   "metadata": {},
   "outputs": [],
   "source": []
  },
  {
   "cell_type": "code",
   "execution_count": null,
   "metadata": {},
   "outputs": [],
   "source": []
  },
  {
   "cell_type": "code",
   "execution_count": null,
   "metadata": {},
   "outputs": [],
   "source": [
    "# for index in range(0,len(trackAllSpikesValue)):\n",
    "#     print(trackAllSpikesPosition[index], '-->', trackAllSpikesValue[index])"
   ]
  }
 ],
 "metadata": {
  "kernelspec": {
   "display_name": "Python 3",
   "language": "python",
   "name": "python3"
  },
  "language_info": {
   "codemirror_mode": {
    "name": "ipython",
    "version": 3
   },
   "file_extension": ".py",
   "mimetype": "text/x-python",
   "name": "python",
   "nbconvert_exporter": "python",
   "pygments_lexer": "ipython3",
   "version": "3.7.3"
  }
 },
 "nbformat": 4,
 "nbformat_minor": 2
}
