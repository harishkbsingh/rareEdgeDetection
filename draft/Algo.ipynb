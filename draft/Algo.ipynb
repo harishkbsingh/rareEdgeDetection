{
 "cells": [
  {
   "cell_type": "code",
   "execution_count": 1,
   "metadata": {},
   "outputs": [],
   "source": [
    "loginInfo = ['dev_angel', 'lwdev', 'DEV_TEST', 'PREPROD_CDB_PREPROD_9593B140CA75F1259DD584236657F2A996A6FA2A14B603FF', 'GRAPH_INTERNAL', 'L@cework809!']\n",
    "theSource = \"datacollectorr\"\n",
    "theDest = \"amazonawscom0443TCP\"\n",
    "hoursTable = \"test_angel_hours_range\"\n",
    "fromDate = \"'01/01/2019 12:00:00'\"\n",
    "toDate = \"'05/31/2019 12:00:00'\"\n",
    "\n",
    "query = \"select ZEROIFNULL(NUM_CONNS) from %s left\" \\\n",
    "        \" join (SELECT to_timestamp_ntz(ns.start_time) as startTime, CONCAT(split_part(ns.props:exe_path, '/', -1),'',ns.props:cmdline_terms[0]) as sourceApplication,  CONCAT(split_part(nd.key:hostname, '.', -2), split_part(nd.key:hostname, '.', -1), nd.key:ip_internal, nd.key:port, nd.key:protocol) as destinationDNS,  sum(edge_t.props:num_conns) num_conns  FROM GRAPH_INTERNAL.edge_t, GRAPH_INTERNAL.node_t ns, GRAPH_INTERNAL.node_t nd  WHERE edge_t.SRC_KEY = ns.KEY AND edge_t.DST_KEY = nd.KEY and edge_t.start_time = ns.start_time  and edge_t.start_time = nd.start_time   AND edge_t.start_time > to_timestamp(%s) AND edge_t.start_time < to_timestamp(%s) AND ns.start_time > to_timestamp(%s) AND ns.start_time < to_timestamp(%s) AND nd.start_time > to_timestamp(%s) AND nd.start_time < to_timestamp(%s) AND edge_t.SRC_TYPE = 'Process' AND edge_t.DST_TYPE = 'DnsSep'  group by startTime, sourceApplication, destinationDNS) as t\" \\\n",
    "        \" on %s.TIME = t.STARTTIME\" \\\n",
    "        \" and t.sourceApplication like '%s'\" \\\n",
    "        \" and t.destinationDns = '%s'\" \\\n",
    "        \" order by test_angel_hours_range.TIME;\" %(hoursTable, fromDate, toDate, fromDate, toDate, fromDate, toDate, hoursTable, theSource, theDest)"
   ]
  },
  {
   "cell_type": "code",
   "execution_count": 2,
   "metadata": {},
   "outputs": [],
   "source": [
    "import pandas as pd, sys, snowflake.connector\n",
    "\n",
    "def dataImporter(query,loginInfo):\n",
    "  \n",
    "    # Get the other login info etc. from the command line.\n",
    "    loginParams = ['user','account','warehouse','database','schema','password']\n",
    "    \n",
    "    if all(param in loginInfo for param in loginParams) and isinstance(loginInfo,dict):\n",
    "        USER = loginInfo['user']\n",
    "        ACCOUNT = loginInfo['account']\n",
    "        WAREHOUSE = loginInfo['warehouse']\n",
    "        DATABASE = loginInfo['database']\n",
    "        SCHEMA = loginInfo['schema']\n",
    "        PASSWORD = loginInfo['password']\n",
    "\n",
    "    elif isinstance(loginInfo,list) and len(loginInfo)==6:\n",
    "        USER = loginInfo[0]\n",
    "        ACCOUNT = loginInfo[1]\n",
    "        WAREHOUSE = loginInfo[2]\n",
    "        DATABASE = loginInfo[3]\n",
    "        SCHEMA = loginInfo[4]\n",
    "        PASSWORD = loginInfo[5]\n",
    "\n",
    "    else:\n",
    "        print(\"\\nError: You must either pass the params\\n   \", loginParams, \"\\nas the dict loginInfo or IN ORDER as a list or IN ORDER as command-line arguments.\")\n",
    "        print(\"\\nCheck that your keys match case as the above if using the dict.\")\n",
    "        sys.exit(-1)\n",
    "\n",
    "    con = snowflake.connector.connect(\n",
    "        user=USER,\n",
    "        password=PASSWORD,\n",
    "        account=ACCOUNT,\n",
    "        warehouse=WAREHOUSE,\n",
    "        database=DATABASE,\n",
    "        schema=SCHEMA\n",
    "    )\n",
    "    cursor = con.cursor()\n",
    "    try:\n",
    "        cursor.execute(query);\n",
    "        df = pd.DataFrame.from_records(iter(cursor), columns=[x[0] for x in cursor.description])\n",
    "        return df\n",
    "    finally:\n",
    "        cursor.close()"
   ]
  },
  {
   "cell_type": "code",
   "execution_count": 3,
   "metadata": {},
   "outputs": [],
   "source": [
    "result = dataImporter(query, loginInfo)\n",
    "dbRep = []\n",
    "for index, row in result.iterrows():\n",
    "    for j, column in row.iteritems():\n",
    "        dbRep.append(int(column))\n",
    "time_series = dbRep"
   ]
  },
  {
   "cell_type": "code",
   "execution_count": 4,
   "metadata": {},
   "outputs": [],
   "source": [
    "import math\n",
    "import numpy as np\n",
    "\n",
    "time_series_expected = []\n",
    "decayFunction_values = []\n",
    "\n",
    "class Algorithm():\n",
    "    \n",
    "    # Initialized with the Timeserie\n",
    "    def __init__(self): \n",
    "        self.hyperparam = None\n",
    "        self.reset()\n",
    "        time_series_expected = []\n",
    "        self.cumulativeValues = []\n",
    "        self.previousExpected = 0\n",
    "\n",
    "    # Polynomial regressions (polynomial least squares fittings).\n",
    "    def decayFunction(self, TSLRE):\n",
    "        return (-0.04448 * (TSLRE/24)) + 3.6 # Generalize better than order 2\n",
    "\n",
    "\n",
    "    def secondDecayFunction(self, lastTick, value): \n",
    "        return abs(lastTick - value) \n",
    "    \n",
    "    def reset(s):\n",
    "        s.meanSinceLastRareEdge = 0\n",
    "        s.stdSinceLastRareEdge = 0\n",
    "        s.timeSinceLastRareEdge = 0\n",
    "        s.expectedValue = 0\n",
    "        \n",
    "    currentHour = -1 #0 in first iteration\n",
    "    trainingTime = 30 * 24\n",
    "    \n",
    "    # Cumulative values since Last Rare Edge\n",
    "    lastMaxValue = 0\n",
    "    lastMaxValuePosition = 0\n",
    "    lastTick = 0 # Test\n",
    "    lastReportedRareEdge = 0\n",
    "    \n",
    "    \n",
    "    def feed(s, tick):\n",
    "        \n",
    "        s.cumulativeValues.append(tick)\n",
    "        avg = np.mean(s.cumulativeValues[-24:])\n",
    "        std = np.std(s.cumulativeValues[-200:])\n",
    "        \n",
    "        # Training first 30 days\n",
    "        s.currentHour = s.currentHour + 1\n",
    "        if s.currentHour < s.trainingTime:\n",
    "            s.lastMaxValue = max(s.lastMaxValue, tick)\n",
    "            time_series_expected.append(0) #UI\n",
    "            return\n",
    "        \n",
    "        elif s.currentHour == s.trainingTime:\n",
    "            \n",
    "            s.lastMaxValue = max(s.lastMaxValue, tick)\n",
    "            s.lastMaxValuePosition = s.trainingTime\n",
    "            s.expectedValue =   (s.decayFunction(1) * s.lastMaxValue) ## working ?\n",
    "            s.previousExpected =  s.expectedValue  \n",
    "            time_series_expected.append(s.expectedValue) #UI\n",
    "            return\n",
    "      \n",
    "        #Time Since Last Rare Edge\n",
    "        TSLMV = s.currentHour - s.lastMaxValuePosition\n",
    "        TSLRE =  s.currentHour - s.lastReportedRareEdge\n",
    "        \n",
    "        if tick > s.expectedValue:\n",
    "            if (TSLRE > 24):\n",
    "                print(\"Hour: \",s.currentHour,\" ----> Value: \", int(tick))\n",
    "                lastReportedRareEdge = s.currentHour\n",
    "             \n",
    "        if (s.decayFunction(TSLMV) * s.lastMaxValue) < s.decayFunction(1) * tick:\n",
    "            s.expectedValue = s.decayFunction(1) * tick\n",
    "            s.expectedValue = s.expectedValue +  std\n",
    "            s.lastMaxValuePosition = s.currentHour\n",
    "            s.lastMaxValue = tick\n",
    "        else:\n",
    "            s.expectedValue = s.decayFunction(TSLMV) * s.lastMaxValue \n",
    "            s.expectedValue = s.expectedValue + std \n",
    "            \n",
    "        time_series_expected.append(s.expectedValue)\n",
    "            "
   ]
  },
  {
   "cell_type": "code",
   "execution_count": 5,
   "metadata": {},
   "outputs": [],
   "source": [
    "algoInstance = Algorithm()\n",
    "for entry in time_series:\n",
    "    algoInstance.feed(entry)"
   ]
  },
  {
   "cell_type": "code",
   "execution_count": 9,
   "metadata": {},
   "outputs": [
    {
     "name": "stderr",
     "output_type": "stream",
     "text": [
      "/Users/anglecambero/anaconda3/lib/python3.7/site-packages/seaborn/timeseries.py:183: UserWarning: The `tsplot` function is deprecated and will be removed in a future release. Please update your code to use the new `lineplot` function.\n",
      "  warnings.warn(msg, UserWarning)\n"
     ]
    },
    {
     "data": {
      "text/plain": [
       "Text(0.5, 1.0, 'Plot of the number of connections between processes and dns by day')"
      ]
     },
     "execution_count": 9,
     "metadata": {},
     "output_type": "execute_result"
    },
    {
     "data": {
      "image/png": "[encoded data removed]",
      "text/plain": [
       "<Figure size 432x288 with 1 Axes>"
      ]
     },
     "metadata": {
      "needs_background": "light"
     },
     "output_type": "display_data"
    }
   ],
   "source": [
    "import seaborn as sns\n",
    "import matplotlib.pyplot as plot\n",
    "sns.tsplot(time_series, color=\"green\")\n",
    "plot.title(\"Plot of the number of connections between processes and dns by day\") "
   ]
  },
  {
   "cell_type": "code",
   "execution_count": 7,
   "metadata": {},
   "outputs": [
    {
     "name": "stderr",
     "output_type": "stream",
     "text": [
      "/Users/anglecambero/anaconda3/lib/python3.7/site-packages/seaborn/timeseries.py:183: UserWarning: The `tsplot` function is deprecated and will be removed in a future release. Please update your code to use the new `lineplot` function.\n",
      "  warnings.warn(msg, UserWarning)\n"
     ]
    },
    {
     "data": {
      "text/plain": [
       "Text(0.5, 1.0, '----------------------------------')"
      ]
     },
     "execution_count": 7,
     "metadata": {},
     "output_type": "execute_result"
    },
    {
     "data": {
      "image/png": "[encoded data removed]",
      "text/plain": [
       "<Figure size 432x288 with 1 Axes>"
      ]
     },
     "metadata": {
      "needs_background": "light"
     },
     "output_type": "display_data"
    }
   ],
   "source": [
    "sns.tsplot(time_series_expected, color=\"red\")\n",
    "plot.title(\"----------------------------------\") "
   ]
  },
  {
   "cell_type": "code",
   "execution_count": 8,
   "metadata": {},
   "outputs": [],
   "source": [
    "# sns.tsplot(decayFunction_values, color=\"blue\")\n",
    "# plot.title(\"----------------------------------\") "
   ]
  },
  {
   "cell_type": "code",
   "execution_count": null,
   "metadata": {},
   "outputs": [],
   "source": []
  },
  {
   "cell_type": "code",
   "execution_count": null,
   "metadata": {},
   "outputs": [],
   "source": []
  }
 ],
 "metadata": {
  "kernelspec": {
   "display_name": "Python 3",
   "language": "python",
   "name": "python3"
  },
  "language_info": {
   "codemirror_mode": {
    "name": "ipython",
    "version": 3
   },
   "file_extension": ".py",
   "mimetype": "text/x-python",
   "name": "python",
   "nbconvert_exporter": "python",
   "pygments_lexer": "ipython3",
   "version": "3.7.3"
  }
 },
 "nbformat": 4,
 "nbformat_minor": 2
}
