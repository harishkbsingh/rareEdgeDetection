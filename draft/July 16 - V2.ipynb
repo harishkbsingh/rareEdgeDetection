{
 "cells": [
  {
   "cell_type": "code",
   "execution_count": 65,
   "metadata": {},
   "outputs": [
    {
     "data": {
      "text/plain": [
       "3.0"
      ]
     },
     "execution_count": 65,
     "metadata": {},
     "output_type": "execute_result"
    }
   ],
   "source": [
    "# file = 'wgetthinkbroadband_hourGrouping.csv'\n",
    "# file = 'datacollectorr_amazon_hourGrouping.csv'\n",
    "file = 'curltxt_hourGrouping.csv'\n",
    "# file = 'datacollectorr_hourGrouping.csv'\n",
    "# file = 'Snowflake_dayGrouping.csv'\n",
    "# file = 'threatsolver_snowflakecomputing.csv'\n",
    "# file = 'javanet.lacework.threatresolver.Main_amazonawscom.csv'\n",
    "\n",
    "time_series = []\n",
    "with open('datasets_byhour/' + file) as f:\n",
    "    ts_array = f.readlines()\n",
    "for currentHour, x in enumerate(ts_array):\n",
    "    time_series.append(float(x))\n",
    "time_series_expected = []\n",
    "\n",
    "np.max(time_series)"
   ]
  },
  {
   "cell_type": "code",
   "execution_count": 66,
   "metadata": {},
   "outputs": [],
   "source": [
    "import math\n",
    "import numpy as np\n",
    "\n",
    "time_series_expected = []\n",
    "decayFunction_values = []\n",
    "\n",
    "class Algorithm():\n",
    "    \n",
    "    # Initialized with the Timeserie\n",
    "    def __init__(self): \n",
    "        self.hyperparam = None\n",
    "        self.reset()\n",
    "        time_series_expected = []\n",
    "        self.cumulativeValues = []\n",
    "        self.previousExpected = 0\n",
    "\n",
    "    # Polynomial regressions (polynomial least squares fittings).\n",
    "    def decayFunction(self, TSLRE):\n",
    "        return (-0.04448 * (TSLRE/24)) + 3.6 # Generalize better than order 2\n",
    "\n",
    "\n",
    "    def secondDecayFunction(self, lastTick, value): \n",
    "        return abs(lastTick - value) \n",
    "    \n",
    "    def reset(s):\n",
    "        s.meanSinceLastRareEdge = 0\n",
    "        s.stdSinceLastRareEdge = 0\n",
    "        s.timeSinceLastRareEdge = 0\n",
    "        s.expectedValue = 0\n",
    "        \n",
    "    currentHour = -1 #0 in first iteration\n",
    "    trainingTime = 30 * 24\n",
    "    \n",
    "    # Cumulative values since Last Rare Edge\n",
    "    lastMaxValue = 0\n",
    "    lastMaxValuePosition = 0\n",
    "    lastTick = 0 # Test\n",
    "    lastReportedRareEdge = 0\n",
    "    \n",
    "    \n",
    "    def feed(s, tick):\n",
    "        \n",
    "        s.cumulativeValues.append(tick)\n",
    "        avg = np.mean(s.cumulativeValues[-24:])\n",
    "        std = np.std(s.cumulativeValues[-200:])\n",
    "        \n",
    "        # Training first 30 days\n",
    "        s.currentHour = s.currentHour + 1\n",
    "        if s.currentHour < s.trainingTime:\n",
    "            s.lastMaxValue = max(s.lastMaxValue, tick)\n",
    "            time_series_expected.append(0) #UI\n",
    "            return\n",
    "        \n",
    "        elif s.currentHour == s.trainingTime:\n",
    "            \n",
    "            s.lastMaxValue = max(s.lastMaxValue, tick)\n",
    "            s.lastMaxValuePosition = s.trainingTime\n",
    "            s.expectedValue =   (s.decayFunction(1) * s.lastMaxValue) ## working ?\n",
    "            s.previousExpected =  s.expectedValue  \n",
    "            time_series_expected.append(s.expectedValue) #UI\n",
    "            return\n",
    "      \n",
    "        #Time Since Last Rare Edge\n",
    "        TSLMV = s.currentHour - s.lastMaxValuePosition\n",
    "        TSLRE =  s.currentHour - s.lastReportedRareEdge\n",
    "        \n",
    "        if tick > s.expectedValue:\n",
    "            if (TSLRE > 24):\n",
    "                print(\"Hour: \",s.currentHour,\" ----> Value: \", int(tick))\n",
    "                lastReportedRareEdge = s.currentHour\n",
    "             \n",
    "        if (s.decayFunction(TSLMV) * s.lastMaxValue) < s.decayFunction(1) * tick:\n",
    "            s.expectedValue = s.decayFunction(1) * tick\n",
    "            s.expectedValue = s.expectedValue +  std\n",
    "            s.lastMaxValuePosition = s.currentHour\n",
    "            s.lastMaxValue = tick\n",
    "        else:\n",
    "            s.expectedValue = s.decayFunction(TSLMV) * s.lastMaxValue \n",
    "            s.expectedValue = s.expectedValue + std \n",
    "            \n",
    "        time_series_expected.append(s.expectedValue)\n",
    "            "
   ]
  },
  {
   "cell_type": "code",
   "execution_count": 67,
   "metadata": {},
   "outputs": [],
   "source": [
    "algoInstance = Algorithm()\n",
    "for entry in time_series:\n",
    "    algoInstance.feed(entry)"
   ]
  },
  {
   "cell_type": "code",
   "execution_count": 68,
   "metadata": {},
   "outputs": [
    {
     "name": "stderr",
     "output_type": "stream",
     "text": [
      "/Users/anglecambero/anaconda3/lib/python3.7/site-packages/seaborn/timeseries.py:183: UserWarning: The `tsplot` function is deprecated and will be removed in a future release. Please update your code to use the new `lineplot` function.\n",
      "  warnings.warn(msg, UserWarning)\n"
     ]
    },
    {
     "data": {
      "text/plain": [
       "Text(0.5, 1.0, 'Plot of the number of connections between processes and dns by day')"
      ]
     },
     "execution_count": 68,
     "metadata": {},
     "output_type": "execute_result"
    },
    {
     "data": {
      "image/png": "[encoded data removed]",
      "text/plain": [
       "<Figure size 432x288 with 1 Axes>"
      ]
     },
     "metadata": {
      "needs_background": "light"
     },
     "output_type": "display_data"
    }
   ],
   "source": [
    "import seaborn as sns\n",
    "import matplotlib.pyplot as plot\n",
    "sns.tsplot(time_series, color=\"green\")\n",
    "plot.title(\"Plot of the number of connections between processes and dns by day\") "
   ]
  },
  {
   "cell_type": "code",
   "execution_count": 69,
   "metadata": {},
   "outputs": [
    {
     "name": "stderr",
     "output_type": "stream",
     "text": [
      "/Users/anglecambero/anaconda3/lib/python3.7/site-packages/seaborn/timeseries.py:183: UserWarning: The `tsplot` function is deprecated and will be removed in a future release. Please update your code to use the new `lineplot` function.\n",
      "  warnings.warn(msg, UserWarning)\n"
     ]
    },
    {
     "data": {
      "text/plain": [
       "Text(0.5, 1.0, '----------------------------------')"
      ]
     },
     "execution_count": 69,
     "metadata": {},
     "output_type": "execute_result"
    },
    {
     "data": {
      "image/png": "[encoded data removed]",
      "text/plain": [
       "<Figure size 432x288 with 1 Axes>"
      ]
     },
     "metadata": {
      "needs_background": "light"
     },
     "output_type": "display_data"
    }
   ],
   "source": [
    "sns.tsplot(time_series_expected, color=\"red\")\n",
    "plot.title(\"----------------------------------\") "
   ]
  },
  {
   "cell_type": "code",
   "execution_count": 70,
   "metadata": {},
   "outputs": [],
   "source": [
    "# sns.tsplot(decayFunction_values, color=\"blue\")\n",
    "# plot.title(\"----------------------------------\") "
   ]
  }
 ],
 "metadata": {
  "kernelspec": {
   "display_name": "Python 3",
   "language": "python",
   "name": "python3"
  },
  "language_info": {
   "codemirror_mode": {
    "name": "ipython",
    "version": 3
   },
   "file_extension": ".py",
   "mimetype": "text/x-python",
   "name": "python",
   "nbconvert_exporter": "python",
   "pygments_lexer": "ipython3",
   "version": "3.7.3"
  }
 },
 "nbformat": 4,
 "nbformat_minor": 2
}
